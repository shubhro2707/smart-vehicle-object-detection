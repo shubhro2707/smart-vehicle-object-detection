{
 "cells": [
  {
   "cell_type": "code",
   "execution_count": 4,
   "id": "28415e83-c78a-414f-8528-f7316dbca64a",
   "metadata": {},
   "outputs": [
    {
     "name": "stdout",
     "output_type": "stream",
     "text": [
      "Loaded 61 images. Cars: 30, Non-Cars: 31\n",
      "✅ Accuracy: 0.7894736842105263\n",
      "\n",
      "Classification Report:\n",
      "               precision    recall  f1-score   support\n",
      "\n",
      "           0       0.80      0.80      0.80        10\n",
      "           1       0.78      0.78      0.78         9\n",
      "\n",
      "    accuracy                           0.79        19\n",
      "   macro avg       0.79      0.79      0.79        19\n",
      "weighted avg       0.79      0.79      0.79        19\n",
      "\n"
     ]
    }
   ],
   "source": [
    "import os\n",
    "import cv2\n",
    "import numpy as np\n",
    "from sklearn.svm import LinearSVC\n",
    "from sklearn.model_selection import train_test_split\n",
    "from sklearn.metrics import accuracy_score, classification_report\n",
    "from skimage.feature import hog\n",
    "import matplotlib.pyplot as plt\n",
    "\n",
    "# 📌 Constants\n",
    "IMG_SIZE = (64, 64)  # Resize all images to 64x64\n",
    "DATA_PATH = '../data/'\n",
    "\n",
    "def load_images(folder):\n",
    "    images = []\n",
    "    for file in os.listdir(folder):\n",
    "        if file.lower().endswith(('.jpg', '.png', '.jpeg')):\n",
    "            path = os.path.join(folder, file)\n",
    "            img = cv2.imread(path, cv2.IMREAD_GRAYSCALE)\n",
    "            img = cv2.resize(img, IMG_SIZE)\n",
    "            images.append(img)\n",
    "    return images\n",
    "\n",
    "# 🔹 Load images\n",
    "car_imgs = load_images(os.path.join(DATA_PATH, 'vehicle'))\n",
    "noncar_imgs = load_images(os.path.join(DATA_PATH, 'non-vehicle'))\n",
    "\n",
    "# 🔹 Labels\n",
    "X = car_imgs + noncar_imgs\n",
    "y = [1]*len(car_imgs) + [0]*len(noncar_imgs)\n",
    "\n",
    "print(f\"Loaded {len(X)} images. Cars: {len(car_imgs)}, Non-Cars: {len(noncar_imgs)}\")\n",
    "\n",
    "# 🔹 HOG Feature Extraction\n",
    "def extract_hog_features(images):\n",
    "    features = []\n",
    "    for img in images:\n",
    "        hog_feature = hog(img, orientations=9, pixels_per_cell=(8, 8),\n",
    "                          cells_per_block=(2, 2), block_norm='L2-Hys', visualize=False)\n",
    "        features.append(hog_feature)\n",
    "    return features\n",
    "\n",
    "X_features = extract_hog_features(X)\n",
    "\n",
    "# 🔹 Train/test split\n",
    "X_train, X_test, y_train, y_test = train_test_split(X_features, y, test_size=0.3, random_state=42)\n",
    "\n",
    "# 🔹 Train SVM\n",
    "model = LinearSVC()\n",
    "model.fit(X_train, y_train)\n",
    "\n",
    "# 🔹 Predict\n",
    "y_pred = model.predict(X_test)\n",
    "\n",
    "# 🔹 Evaluation\n",
    "print(\"✅ Accuracy:\", accuracy_score(y_test, y_pred))\n",
    "print(\"\\nClassification Report:\\n\", classification_report(y_test, y_pred))"
   ]
  },
  {
   "cell_type": "code",
   "execution_count": null,
   "id": "7ae05fd2-24d0-46c8-bd3b-90d8e4924bf9",
   "metadata": {},
   "outputs": [],
   "source": []
  }
 ],
 "metadata": {
  "kernelspec": {
   "display_name": "Python 3 (ipykernel)",
   "language": "python",
   "name": "python3"
  },
  "language_info": {
   "codemirror_mode": {
    "name": "ipython",
    "version": 3
   },
   "file_extension": ".py",
   "mimetype": "text/x-python",
   "name": "python",
   "nbconvert_exporter": "python",
   "pygments_lexer": "ipython3",
   "version": "3.13.2"
  }
 },
 "nbformat": 4,
 "nbformat_minor": 5
}
